{
 "cells": [
  {
   "cell_type": "markdown",
   "metadata": {},
   "source": [
    "# 0. Data Preparation\n",
    "This notebook should be runned in order to download files from the simulated plants and create all necesary files to its further analysis and exploitation."
   ]
  },
  {
   "cell_type": "code",
   "execution_count": 5,
   "metadata": {},
   "outputs": [],
   "source": [
    "from modules.submodules import data_download_extraction\n",
    "from modules import data_preparation"
   ]
  },
  {
   "cell_type": "markdown",
   "metadata": {},
   "source": [
    "------"
   ]
  },
  {
   "cell_type": "markdown",
   "metadata": {},
   "source": [
    "### 0.1 Files downloading and extracting\n",
    "First, we download the power generation profiles data and extract it into `./data/Exctracted/` folder.\n"
   ]
  },
  {
   "cell_type": "code",
   "execution_count": 2,
   "metadata": {},
   "outputs": [
    {
     "name": "stderr",
     "output_type": "stream",
     "text": [
      "Extracting Minnesota.zip:   2%|▏         | 2/108 [00:00<00:05, 19.02it/s]"
     ]
    },
    {
     "name": "stdout",
     "output_type": "stream",
     "text": [
      "Downloading eastern states data:\n",
      "Files from Alabama already exists.\n",
      "Files from Arkansas already exists.\n",
      "Files from Connecticut already exists.\n",
      "Files from Delaware already exists.\n",
      "Files from Florida already exists.\n",
      "Files from Georgia already exists.\n",
      "Files from Illinois already exists.\n",
      "Files from Indiana already exists.\n",
      "Files from Iowa already exists.\n",
      "Files from Kansas already exists.\n",
      "Files from Kentucky already exists.\n",
      "Files from Louisiana already exists.\n",
      "Files from Maine already exists.\n",
      "Files from Maryland already exists.\n",
      "Files from Massachusetts already exists.\n",
      "Files from Michigan already exists.\n",
      "Files from Minnesota already exists.\n",
      "Files from Mississippi already exists.\n",
      "Files from Missouri already exists.\n",
      "Files from Montana already exists.\n",
      "Files from Nebraska already exists.\n",
      "Files from New Hampshire already exists.\n",
      "Files from New Jersey already exists.\n",
      "Files from New Mexico already exists.\n",
      "Files from New York already exists.\n",
      "Files from North Carolina already exists.\n",
      "Files from Ohio already exists.\n",
      "Files from Oklahoma already exists.\n",
      "Files from Pennsylvania already exists.\n",
      "Files from Rhode Island already exists.\n",
      "Files from South Carolina already exists.\n",
      "Files from South Dakota already exists.\n",
      "Files from Tennessee already exists.\n",
      "Files from Texas already exists.\n",
      "Files from Vermont already exists.\n",
      "Files from Virginia already exists.\n",
      "Files from West Virginia already exists.\n",
      "Files from Wisconsin already exists.\n",
      "Download finished.\n",
      "Downloading western states data:\n",
      "Files from Arizona already exists.\n",
      "Files from California already exists.\n",
      "Files from Colorado already exists.\n",
      "Files from Idaho already exists.\n",
      "Files from Montana already exists.\n",
      "Files from Nevada already exists.\n",
      "Files from New Mexico already exists.\n",
      "Files from Oregon already exists.\n",
      "Files from South Dakota already exists.\n",
      "Files from Texas already exists.\n",
      "Files from Utah already exists.\n",
      "Files from Washington already exists.\n",
      "Files from Wyoming already exists.\n",
      "Download finished.\n",
      "Exracting data files:\n"
     ]
    },
    {
     "name": "stderr",
     "output_type": "stream",
     "text": [
      "Extracting Minnesota.zip: 100%|██████████| 108/108 [00:01<00:00, 103.50it/s]\n",
      "Extracting Maryland.zip: 100%|██████████| 240/240 [00:02<00:00, 96.75it/s] \n",
      "Extracting New Jersey.zip: 100%|██████████| 300/300 [00:02<00:00, 114.01it/s]\n",
      "Extracting Michigan.zip: 100%|██████████| 252/252 [00:02<00:00, 103.70it/s]\n",
      "Extracting Nevada.zip: 100%|██████████| 231/231 [00:02<00:00, 91.18it/s] \n",
      "Extracting New Mexico.zip: 100%|██████████| 81/81 [00:00<00:00, 93.83it/s] \n",
      "Extracting Maine.zip: 100%|██████████| 69/69 [00:00<00:00, 90.60it/s] \n",
      "Extracting West Virginia.zip: 100%|██████████| 72/72 [00:00<00:00, 92.81it/s] \n",
      "Extracting Tennessee.zip: 100%|██████████| 816/816 [00:08<00:00, 100.11it/s]\n",
      "Extracting Colorado.zip: 100%|██████████| 264/264 [00:02<00:00, 108.83it/s]\n",
      "Extracting North Carolina.zip: 100%|██████████| 654/654 [00:06<00:00, 107.23it/s]\n",
      "Extracting Nebraska.zip: 100%|██████████| 111/111 [00:01<00:00, 97.04it/s]\n",
      "Extracting Kentucky.zip: 100%|██████████| 477/477 [00:04<00:00, 111.79it/s]\n",
      "Extracting Vermont.zip: 100%|██████████| 12/12 [00:00<00:00, 75.68it/s]\n",
      "Extracting Montana.zip: 100%|██████████| 12/12 [00:00<00:00, 35.45it/s]\n",
      "Extracting Idaho.zip: 100%|██████████| 42/42 [00:00<00:00, 81.57it/s]\n",
      "Extracting South Carolina.zip: 100%|██████████| 852/852 [00:07<00:00, 112.16it/s]\n",
      "Extracting Mississippi.zip: 100%|██████████| 366/366 [00:03<00:00, 100.22it/s]\n",
      "Extracting South Dakota.zip: 100%|██████████| 189/189 [00:01<00:00, 138.11it/s]\n",
      "Extracting Wyoming.zip: 100%|██████████| 21/21 [00:00<00:00, 85.61it/s]\n",
      "Extracting Arizona.zip: 100%|██████████| 513/513 [00:04<00:00, 118.05it/s]\n",
      "Extracting Louisiana.zip: 100%|██████████| 69/69 [00:00<00:00, 150.42it/s]\n",
      "Extracting Ohio.zip: 100%|██████████| 285/285 [00:01<00:00, 148.23it/s]\n",
      "Extracting Pennsylvania.zip: 100%|██████████| 303/303 [00:01<00:00, 151.64it/s]\n",
      "Extracting Connecticut.zip: 100%|██████████| 87/87 [00:00<00:00, 96.89it/s] \n",
      "Extracting Virginia.zip: 100%|██████████| 663/663 [00:04<00:00, 143.05it/s]\n",
      "Extracting Indiana.zip: 100%|██████████| 303/303 [00:02<00:00, 147.33it/s]\n",
      "Extracting Delaware.zip: 100%|██████████| 48/48 [00:00<00:00, 145.22it/s]\n",
      "Extracting Missouri.zip: 100%|██████████| 588/588 [00:03<00:00, 149.57it/s]\n",
      "Extracting Illinois.zip: 100%|██████████| 318/318 [00:02<00:00, 152.07it/s]\n",
      "Extracting Washington.zip: 100%|██████████| 228/228 [00:01<00:00, 142.80it/s]\n",
      "Extracting New Hampshire.zip: 100%|██████████| 60/60 [00:00<00:00, 130.03it/s]\n",
      "Extracting Kansas.zip: 100%|██████████| 138/138 [00:01<00:00, 116.63it/s]\n",
      "Extracting Oregon.zip: 100%|██████████| 84/84 [00:00<00:00, 164.60it/s]\n",
      "Extracting Arkansas.zip: 100%|██████████| 258/258 [00:01<00:00, 145.05it/s]\n",
      "Extracting Oklahoma.zip: 100%|██████████| 195/195 [00:01<00:00, 106.75it/s]\n",
      "Extracting Iowa.zip: 100%|██████████| 75/75 [00:00<00:00, 91.60it/s]\n",
      "Extracting New York.zip: 100%|██████████| 387/387 [00:02<00:00, 142.06it/s]\n",
      "Extracting Massachusetts.zip: 100%|██████████| 150/150 [00:01<00:00, 142.72it/s]\n",
      "Extracting Wisconsin.zip: 100%|██████████| 96/96 [00:00<00:00, 131.80it/s]\n",
      "Extracting Texas.zip: 100%|██████████| 168/168 [00:01<00:00, 146.42it/s]\n",
      "Extracting Utah.zip: 100%|██████████| 198/198 [00:01<00:00, 148.26it/s]\n",
      "Extracting Florida.zip: 100%|██████████| 1779/1779 [00:12<00:00, 140.69it/s]\n",
      "Extracting Rhode Island.zip: 100%|██████████| 54/54 [00:00<00:00, 145.73it/s]\n",
      "Extracting Alabama.zip: 100%|██████████| 411/411 [00:02<00:00, 146.30it/s]\n",
      "Extracting California.zip: 100%|██████████| 1215/1215 [00:08<00:00, 146.01it/s]\n",
      "Extracting Georgia.zip: 100%|██████████| 996/996 [00:06<00:00, 142.90it/s]"
     ]
    },
    {
     "name": "stdout",
     "output_type": "stream",
     "text": [
      "Extraction finished.\n"
     ]
    },
    {
     "name": "stderr",
     "output_type": "stream",
     "text": [
      "\n"
     ]
    }
   ],
   "source": [
    "data_preparation.data_download( Eastern = True, Western = True, Unzip = True)"
   ]
  },
  {
   "cell_type": "markdown",
   "metadata": {},
   "source": [
    "### 0.2 Files metadata collecting\n",
    "Secondly, we read the downloaded data's metadata and arrange it in usefull dataframes and .csv files for further use."
   ]
  },
  {
   "cell_type": "code",
   "execution_count": 2,
   "metadata": {},
   "outputs": [],
   "source": [
    "meta_UPV, meta_DPV = data_preparation.get_plants_files_metadata( read = False, PATH = './data/Extracted/', UPV = True, DPV = True, to_csv = True)"
   ]
  },
  {
   "cell_type": "markdown",
   "metadata": {},
   "source": [
    "### 0.3 Collecting map shapes for future plotting\n",
    "Thirdly, we collect the shape maps to further plotting and data visualisation. Three different USA map shapes are downloaded, each with a higher level of resolution (national, states, counties)."
   ]
  },
  {
   "cell_type": "code",
   "execution_count": 3,
   "metadata": {},
   "outputs": [],
   "source": [
    "data_preparation.get_usa_shapes()"
   ]
  }
 ],
 "metadata": {
  "kernelspec": {
   "display_name": "Python 3",
   "language": "python",
   "name": "python3"
  },
  "language_info": {
   "codemirror_mode": {
    "name": "ipython",
    "version": 3
   },
   "file_extension": ".py",
   "mimetype": "text/x-python",
   "name": "python",
   "nbconvert_exporter": "python",
   "pygments_lexer": "ipython3",
   "version": "3.8.5"
  }
 },
 "nbformat": 4,
 "nbformat_minor": 4
}
