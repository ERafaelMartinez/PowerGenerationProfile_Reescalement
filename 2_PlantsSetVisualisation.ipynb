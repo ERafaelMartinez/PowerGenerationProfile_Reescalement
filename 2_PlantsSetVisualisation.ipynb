{
 "cells": [
  {
   "cell_type": "markdown",
   "metadata": {},
   "source": [
    "# 2. Plant Set Analysis Visualization For Time Series Reescaling\n",
    "\n",
    "In this notebook we'll work with the visualization of the analysis performed on a plant set in order to get a sense of the best parametes conditions for our particular reescaling purpose. We'll refer to a `Plant Set` as a set of plant locations and their information. They're expected to be around a certain region."
   ]
  },
  {
   "cell_type": "code",
   "execution_count": 1,
   "metadata": {},
   "outputs": [],
   "source": [
    "from modules import plant_scaling\n",
    "from modules import data_preparation\n",
    "from modules import geographical_plotting\n",
    "from modules import geographical_analysis"
   ]
  },
  {
   "cell_type": "markdown",
   "metadata": {},
   "source": [
    "#### 2.1 Full Plant Set Clustered GeoDataFrames\n",
    "First, we'll repeat some of the steps on `1_PlantsVisualisation.ipynb` to generate the GeoDataFrames with the spatial information on the plants distribution as well as the labels obtained from the clustering."
   ]
  },
  {
   "cell_type": "code",
   "execution_count": 2,
   "metadata": {},
   "outputs": [],
   "source": [
    "#Plant files metadata\n",
    "meta_UPV, meta_DPV = data_preparation.get_plants_files_metadata( read = True, PATH = './data/Extracted/', UPV = True, DPV = True, to_csv = False)\n",
    "\n",
    "#construction of geo_dataframes\n",
    "geo_df_UPV = geographical_plotting.geographic_data(meta_UPV)\n",
    "geo_df_DPV = geographical_plotting.geographic_data(meta_DPV)\n",
    "\n",
    "#clustering\n",
    "geo_df_UPV_labeled, centers_df_UPV = geographical_analysis.geographical_plant_clustering(geo_df_UPV, N_clusters = 115 )\n",
    "geo_df_DPV_labeled, centers_df_DPV = geographical_analysis.geographical_plant_clustering(geo_df_DPV, N_clusters = 115 )"
   ]
  },
  {
   "cell_type": "markdown",
   "metadata": {},
   "source": [
    "#### 2.2 Closest Cluster Centroid\n",
    "We perform calculations to determine the centroid wich is closer to our coordinate point of interest."
   ]
  },
  {
   "cell_type": "code",
   "execution_count": 3,
   "metadata": {},
   "outputs": [],
   "source": [
    "index_UPV, center_long_UPV, center_lat_UPV = geographical_analysis.closest_centroid( geo_df_UPV_labeled, centers_df_UPV, coords = (-120.00, 35.00))\n",
    "index_DPV, center_long_DPV, center_lat_DPV = geographical_analysis.closest_centroid( geo_df_DPV_labeled, centers_df_DPV, coords = (-120.00, 35.00))"
   ]
  },
  {
   "cell_type": "markdown",
   "metadata": {},
   "source": [
    "#### 2.3 Cluster Group Filtering\n",
    "We now filter from the full Plant Set metadata list the group with the label that is most of our interest.\n",
    "That would be the group which centroid is closest to the coordinate point which we before specified."
   ]
  },
  {
   "cell_type": "code",
   "execution_count": 4,
   "metadata": {},
   "outputs": [],
   "source": [
    "cluster_group_metadata_df_UPV = geographical_analysis.cluster_group(index_UPV, geo_df_UPV_labeled)\n",
    "cluster_group_metadata_df_DPV = geographical_analysis.cluster_group(index_DPV, geo_df_DPV_labeled)"
   ]
  },
  {
   "cell_type": "markdown",
   "metadata": {},
   "source": [
    "This will get us the filtered DataFrame with the metadata that we'll actually use. the plants which belong to this subgroup, form the `Plant Set` discussed before."
   ]
  },
  {
   "cell_type": "markdown",
   "metadata": {},
   "source": [
    "From the segmentation procedure we got `cluster_group_metadata_df_UPV.shape[0]` plants filtered, which means they are relatively close to the point of interest."
   ]
  },
  {
   "cell_type": "code",
   "execution_count": 5,
   "metadata": {},
   "outputs": [
    {
     "data": {
      "text/plain": [
       "(14, 7)"
      ]
     },
     "execution_count": 5,
     "metadata": {},
     "output_type": "execute_result"
    }
   ],
   "source": [
    "cluster_group_metadata_df_UPV.shape"
   ]
  },
  {
   "cell_type": "markdown",
   "metadata": {},
   "source": [
    "#### 2.4 Plant Sets Object Creation \n",
    "Now we'll create two objects, each with the particular metadata on the dataframes from above. The class already has all the required functions to read the time series held in the files specified on the metadata dataframes."
   ]
  },
  {
   "cell_type": "code",
   "execution_count": 6,
   "metadata": {},
   "outputs": [],
   "source": [
    "datapath = './data/Extracted/'\n",
    "UPV_plant_set = plant_scaling.Plant_set(datapath, cluster_group_metadata_df_UPV, coords = (-120.00, 35.00) )\n",
    "DPV_plant_set = plant_scaling.Plant_set(datapath, cluster_group_metadata_df_DPV, coords = (-120.00, 35.00) )"
   ]
  },
  {
   "cell_type": "markdown",
   "metadata": {},
   "source": [
    "##### Disclaimer: \n",
    "Please do take into account that the less `N_clusters`that we use, the longer it will take to read the data for any object because there will be more time series to process. At the same time, the more `N_clusters` we use, the more it will take on clustering the coordinate points. Therefore, a right balance between the clustering time and the `read_data` time must be found. It is also recomended to just rund the segmentation procedure once and with the labeled dataframe, filter the plants with a particular coordinate point."
   ]
  },
  {
   "cell_type": "markdown",
   "metadata": {},
   "source": [
    "### 2.5 Plant Set Analysis\n",
    "The following procedure illustrate the use of the different methods implemented on the Solar_plants_data class in order to develop some intuition on how the parameters of the plant-power-generation-timeseries-reescaling works. We'll perform it only on the UPV filtered Plant Set, but the procedure can be implemented on any Plant Set."
   ]
  },
  {
   "cell_type": "markdown",
   "metadata": {},
   "source": [
    "After the objects are created, the files on the metadata dataframes are read. We then collect on an array the total installed power of the plant and the daily registered power exactly at midday for each of the N plants which got segmented. You can specify either a dataframe or a path where a `Plant_Set_metadata.csv` file should be held. If `set_points = True` , the array of points is saved as a attribute of the object overwritting anything that would be in its place."
   ]
  },
  {
   "cell_type": "code",
   "execution_count": 7,
   "metadata": {},
   "outputs": [
    {
     "name": "stdout",
     "output_type": "stream",
     "text": [
      "|100.00% completed. Time elapsed: 7.5s \r"
     ]
    }
   ],
   "source": [
    "UPV_plant_set.points = UPV_plant_set.read_data(geo_data_XPV_labeled = UPV_plant_set.plants_metadata, set_points = True)"
   ]
  },
  {
   "cell_type": "markdown",
   "metadata": {},
   "source": [
    "What the following 3 functions do is pretty self-explanatory from their name but anyway we'll get through it:\n",
    "- `Plant_set.midday_distributions(create_csv=False, plot=True)` plots the distribution of points constructed from the time series specified on the metadata dataframe. It returns a dataframe."
   ]
  },
  {
   "cell_type": "code",
   "execution_count": 8,
   "metadata": {
    "scrolled": true
   },
   "outputs": [
    {
     "data": {
      "text/html": [
       "<div>\n",
       "<style scoped>\n",
       "    .dataframe tbody tr th:only-of-type {\n",
       "        vertical-align: middle;\n",
       "    }\n",
       "\n",
       "    .dataframe tbody tr th {\n",
       "        vertical-align: top;\n",
       "    }\n",
       "\n",
       "    .dataframe thead th {\n",
       "        text-align: right;\n",
       "    }\n",
       "</style>\n",
       "<table border=\"1\" class=\"dataframe\">\n",
       "  <thead>\n",
       "    <tr style=\"text-align: right;\">\n",
       "      <th></th>\n",
       "      <th>MW</th>\n",
       "      <th>Power_Midday</th>\n",
       "    </tr>\n",
       "  </thead>\n",
       "  <tbody>\n",
       "    <tr>\n",
       "      <th>0</th>\n",
       "      <td>100.0</td>\n",
       "      <td>3.2</td>\n",
       "    </tr>\n",
       "    <tr>\n",
       "      <th>1</th>\n",
       "      <td>100.0</td>\n",
       "      <td>10.2</td>\n",
       "    </tr>\n",
       "    <tr>\n",
       "      <th>2</th>\n",
       "      <td>100.0</td>\n",
       "      <td>62.0</td>\n",
       "    </tr>\n",
       "    <tr>\n",
       "      <th>3</th>\n",
       "      <td>100.0</td>\n",
       "      <td>44.0</td>\n",
       "    </tr>\n",
       "    <tr>\n",
       "      <th>4</th>\n",
       "      <td>100.0</td>\n",
       "      <td>65.6</td>\n",
       "    </tr>\n",
       "    <tr>\n",
       "      <th>...</th>\n",
       "      <td>...</td>\n",
       "      <td>...</td>\n",
       "    </tr>\n",
       "    <tr>\n",
       "      <th>5105</th>\n",
       "      <td>149.0</td>\n",
       "      <td>20.7</td>\n",
       "    </tr>\n",
       "    <tr>\n",
       "      <th>5106</th>\n",
       "      <td>149.0</td>\n",
       "      <td>95.0</td>\n",
       "    </tr>\n",
       "    <tr>\n",
       "      <th>5107</th>\n",
       "      <td>149.0</td>\n",
       "      <td>88.5</td>\n",
       "    </tr>\n",
       "    <tr>\n",
       "      <th>5108</th>\n",
       "      <td>149.0</td>\n",
       "      <td>94.2</td>\n",
       "    </tr>\n",
       "    <tr>\n",
       "      <th>5109</th>\n",
       "      <td>149.0</td>\n",
       "      <td>94.0</td>\n",
       "    </tr>\n",
       "  </tbody>\n",
       "</table>\n",
       "<p>5110 rows × 2 columns</p>\n",
       "</div>"
      ],
      "text/plain": [
       "         MW  Power_Midday\n",
       "0     100.0           3.2\n",
       "1     100.0          10.2\n",
       "2     100.0          62.0\n",
       "3     100.0          44.0\n",
       "4     100.0          65.6\n",
       "...     ...           ...\n",
       "5105  149.0          20.7\n",
       "5106  149.0          95.0\n",
       "5107  149.0          88.5\n",
       "5108  149.0          94.2\n",
       "5109  149.0          94.0\n",
       "\n",
       "[5110 rows x 2 columns]"
      ]
     },
     "execution_count": 8,
     "metadata": {},
     "output_type": "execute_result"
    },
    {
     "data": {
      "image/png": "[encoded data removed]",
      "text/plain": [
       "<Figure size 432x288 with 1 Axes>"
      ]
     },
     "metadata": {},
     "output_type": "display_data"
    }
   ],
   "source": [
    "UPV_plant_set.midday_distributions(create_csv=False, plot=True)"
   ]
  },
  {
   "cell_type": "markdown",
   "metadata": {},
   "source": [
    "- `Plant_set.yearly_mean_value(self, create_csv = False, plot = False)` instead of plotting the whole miday-points distribution, takes the mean value, returns a dataframe and (if specified) plots it and creates a csv file from the data."
   ]
  },
  {
   "cell_type": "code",
   "execution_count": 9,
   "metadata": {
    "scrolled": true
   },
   "outputs": [
    {
     "data": {
      "text/html": [
       "<div>\n",
       "<style scoped>\n",
       "    .dataframe tbody tr th:only-of-type {\n",
       "        vertical-align: middle;\n",
       "    }\n",
       "\n",
       "    .dataframe tbody tr th {\n",
       "        vertical-align: top;\n",
       "    }\n",
       "\n",
       "    .dataframe thead th {\n",
       "        text-align: right;\n",
       "    }\n",
       "</style>\n",
       "<table border=\"1\" class=\"dataframe\">\n",
       "  <thead>\n",
       "    <tr style=\"text-align: right;\">\n",
       "      <th></th>\n",
       "      <th>MW</th>\n",
       "      <th>Mean_Power_Midday</th>\n",
       "    </tr>\n",
       "  </thead>\n",
       "  <tbody>\n",
       "    <tr>\n",
       "      <th>0</th>\n",
       "      <td>100.0</td>\n",
       "      <td>63.725205</td>\n",
       "    </tr>\n",
       "    <tr>\n",
       "      <th>1</th>\n",
       "      <td>125.0</td>\n",
       "      <td>74.925205</td>\n",
       "    </tr>\n",
       "    <tr>\n",
       "      <th>2</th>\n",
       "      <td>150.0</td>\n",
       "      <td>90.292877</td>\n",
       "    </tr>\n",
       "    <tr>\n",
       "      <th>3</th>\n",
       "      <td>50.0</td>\n",
       "      <td>28.463288</td>\n",
       "    </tr>\n",
       "    <tr>\n",
       "      <th>4</th>\n",
       "      <td>100.0</td>\n",
       "      <td>59.793699</td>\n",
       "    </tr>\n",
       "    <tr>\n",
       "      <th>5</th>\n",
       "      <td>164.0</td>\n",
       "      <td>95.378630</td>\n",
       "    </tr>\n",
       "    <tr>\n",
       "      <th>6</th>\n",
       "      <td>110.0</td>\n",
       "      <td>66.193151</td>\n",
       "    </tr>\n",
       "    <tr>\n",
       "      <th>7</th>\n",
       "      <td>125.0</td>\n",
       "      <td>71.000822</td>\n",
       "    </tr>\n",
       "    <tr>\n",
       "      <th>8</th>\n",
       "      <td>125.0</td>\n",
       "      <td>77.103014</td>\n",
       "    </tr>\n",
       "    <tr>\n",
       "      <th>9</th>\n",
       "      <td>75.0</td>\n",
       "      <td>49.134521</td>\n",
       "    </tr>\n",
       "    <tr>\n",
       "      <th>10</th>\n",
       "      <td>100.0</td>\n",
       "      <td>60.269041</td>\n",
       "    </tr>\n",
       "    <tr>\n",
       "      <th>11</th>\n",
       "      <td>100.0</td>\n",
       "      <td>65.812877</td>\n",
       "    </tr>\n",
       "    <tr>\n",
       "      <th>12</th>\n",
       "      <td>100.0</td>\n",
       "      <td>64.847945</td>\n",
       "    </tr>\n",
       "    <tr>\n",
       "      <th>13</th>\n",
       "      <td>149.0</td>\n",
       "      <td>85.755342</td>\n",
       "    </tr>\n",
       "  </tbody>\n",
       "</table>\n",
       "</div>"
      ],
      "text/plain": [
       "       MW  Mean_Power_Midday\n",
       "0   100.0          63.725205\n",
       "1   125.0          74.925205\n",
       "2   150.0          90.292877\n",
       "3    50.0          28.463288\n",
       "4   100.0          59.793699\n",
       "5   164.0          95.378630\n",
       "6   110.0          66.193151\n",
       "7   125.0          71.000822\n",
       "8   125.0          77.103014\n",
       "9    75.0          49.134521\n",
       "10  100.0          60.269041\n",
       "11  100.0          65.812877\n",
       "12  100.0          64.847945\n",
       "13  149.0          85.755342"
      ]
     },
     "execution_count": 9,
     "metadata": {},
     "output_type": "execute_result"
    },
    {
     "data": {
      "image/png": "[encoded data removed]",
      "text/plain": [
       "<Figure size 432x288 with 1 Axes>"
      ]
     },
     "metadata": {},
     "output_type": "display_data"
    }
   ],
   "source": [
    "UPV_plant_set.yearly_mean_value(create_csv = False, plot = True)"
   ]
  },
  {
   "cell_type": "markdown",
   "metadata": {},
   "source": [
    "- `Plant_set.yearly_max_value(self, create_csv = False, plot = False)` does the same as `yearly_mean_value`but instead takes the max value."
   ]
  },
  {
   "cell_type": "code",
   "execution_count": 10,
   "metadata": {
    "scrolled": true
   },
   "outputs": [
    {
     "data": {
      "text/html": [
       "<div>\n",
       "<style scoped>\n",
       "    .dataframe tbody tr th:only-of-type {\n",
       "        vertical-align: middle;\n",
       "    }\n",
       "\n",
       "    .dataframe tbody tr th {\n",
       "        vertical-align: top;\n",
       "    }\n",
       "\n",
       "    .dataframe thead th {\n",
       "        text-align: right;\n",
       "    }\n",
       "</style>\n",
       "<table border=\"1\" class=\"dataframe\">\n",
       "  <thead>\n",
       "    <tr style=\"text-align: right;\">\n",
       "      <th></th>\n",
       "      <th>MW</th>\n",
       "      <th>Max_Power_Midday</th>\n",
       "    </tr>\n",
       "  </thead>\n",
       "  <tbody>\n",
       "    <tr>\n",
       "      <th>0</th>\n",
       "      <td>100.0</td>\n",
       "      <td>88.0</td>\n",
       "    </tr>\n",
       "    <tr>\n",
       "      <th>1</th>\n",
       "      <td>125.0</td>\n",
       "      <td>113.1</td>\n",
       "    </tr>\n",
       "    <tr>\n",
       "      <th>2</th>\n",
       "      <td>150.0</td>\n",
       "      <td>128.1</td>\n",
       "    </tr>\n",
       "    <tr>\n",
       "      <th>3</th>\n",
       "      <td>50.0</td>\n",
       "      <td>46.1</td>\n",
       "    </tr>\n",
       "    <tr>\n",
       "      <th>4</th>\n",
       "      <td>100.0</td>\n",
       "      <td>87.5</td>\n",
       "    </tr>\n",
       "    <tr>\n",
       "      <th>5</th>\n",
       "      <td>164.0</td>\n",
       "      <td>135.0</td>\n",
       "    </tr>\n",
       "    <tr>\n",
       "      <th>6</th>\n",
       "      <td>110.0</td>\n",
       "      <td>96.7</td>\n",
       "    </tr>\n",
       "    <tr>\n",
       "      <th>7</th>\n",
       "      <td>125.0</td>\n",
       "      <td>107.5</td>\n",
       "    </tr>\n",
       "    <tr>\n",
       "      <th>8</th>\n",
       "      <td>125.0</td>\n",
       "      <td>121.6</td>\n",
       "    </tr>\n",
       "    <tr>\n",
       "      <th>9</th>\n",
       "      <td>75.0</td>\n",
       "      <td>68.4</td>\n",
       "    </tr>\n",
       "    <tr>\n",
       "      <th>10</th>\n",
       "      <td>100.0</td>\n",
       "      <td>84.6</td>\n",
       "    </tr>\n",
       "    <tr>\n",
       "      <th>11</th>\n",
       "      <td>100.0</td>\n",
       "      <td>90.7</td>\n",
       "    </tr>\n",
       "    <tr>\n",
       "      <th>12</th>\n",
       "      <td>100.0</td>\n",
       "      <td>91.6</td>\n",
       "    </tr>\n",
       "    <tr>\n",
       "      <th>13</th>\n",
       "      <td>149.0</td>\n",
       "      <td>124.1</td>\n",
       "    </tr>\n",
       "  </tbody>\n",
       "</table>\n",
       "</div>"
      ],
      "text/plain": [
       "       MW  Max_Power_Midday\n",
       "0   100.0              88.0\n",
       "1   125.0             113.1\n",
       "2   150.0             128.1\n",
       "3    50.0              46.1\n",
       "4   100.0              87.5\n",
       "5   164.0             135.0\n",
       "6   110.0              96.7\n",
       "7   125.0             107.5\n",
       "8   125.0             121.6\n",
       "9    75.0              68.4\n",
       "10  100.0              84.6\n",
       "11  100.0              90.7\n",
       "12  100.0              91.6\n",
       "13  149.0             124.1"
      ]
     },
     "execution_count": 10,
     "metadata": {},
     "output_type": "execute_result"
    },
    {
     "data": {
      "image/png": "[encoded data removed]",
      "text/plain": [
       "<Figure size 432x288 with 1 Axes>"
      ]
     },
     "metadata": {},
     "output_type": "display_data"
    }
   ],
   "source": [
    "UPV_plant_set.yearly_max_value(create_csv = False, plot = True)"
   ]
  },
  {
   "cell_type": "markdown",
   "metadata": {},
   "source": [
    "In order to determine how we'll reescale the signal, we use `Plant_set.fit_curve(degree = 2, data = 'max', plot = False, scale_factor = None)`, which fits a polinomial of degree `[1,2,3]` to the specified data `['max','mean','all']`. It returns polinomial's coeficients or the scaling factor if `scale_factor = True`."
   ]
  },
  {
   "cell_type": "code",
   "execution_count": 11,
   "metadata": {
    "scrolled": true
   },
   "outputs": [
    {
     "data": {
      "text/plain": [
       "0.7809986707909234"
      ]
     },
     "execution_count": 11,
     "metadata": {},
     "output_type": "execute_result"
    },
    {
     "data": {
      "image/png": "[encoded data removed]",
      "text/plain": [
       "<Figure size 432x288 with 1 Axes>"
      ]
     },
     "metadata": {},
     "output_type": "display_data"
    }
   ],
   "source": [
    "UPV_plant_set.fit_curve(degree = 3 , data = 'max', plot = True, scale_factor = True)"
   ]
  },
  {
   "cell_type": "markdown",
   "metadata": {},
   "source": [
    "### 2.6 Signal Reescaling\n",
    "Finally we select a power time series from a random plant of the Plant Set and reescaling according to the parameters specified on `Plant_scale.scale_signal(degree, data, MW_out, write_csv = True, plot_hist = False)`. It returns the time series, and if specified, plots a histogram in order to confirm that the scalling procedure has been donde correctly."
   ]
  },
  {
   "cell_type": "code",
   "execution_count": 12,
   "metadata": {
    "scrolled": true
   },
   "outputs": [
    {
     "data": {
      "text/plain": [
       "LocalTime\n",
       "2006-01-01 00:00:00    0.0\n",
       "2006-01-01 00:05:00    0.0\n",
       "2006-01-01 00:10:00    0.0\n",
       "2006-01-01 00:15:00    0.0\n",
       "2006-01-01 00:20:00    0.0\n",
       "                      ... \n",
       "2006-12-31 23:35:00    0.0\n",
       "2006-12-31 23:40:00    0.0\n",
       "2006-12-31 23:45:00    0.0\n",
       "2006-12-31 23:50:00    0.0\n",
       "2006-12-31 23:55:00    0.0\n",
       "Name: Power(MW), Length: 105120, dtype: float64"
      ]
     },
     "execution_count": 12,
     "metadata": {},
     "output_type": "execute_result"
    },
    {
     "data": {
      "image/png": "[encoded data removed]",
      "text/plain": [
       "<Figure size 1440x576 with 2 Axes>"
      ]
     },
     "metadata": {},
     "output_type": "display_data"
    }
   ],
   "source": [
    "UPV_plant_set.scale_signal(degree=3, data='max', MW_out=7, plot_hist=True)"
   ]
  },
  {
   "cell_type": "markdown",
   "metadata": {},
   "source": [
    "The output file will have a name such as `Scaled_34.85_-119.85_35.0_-120.0_2006_UPV_100MW_5_Min_3deg_max_7MW.csv`, where `Scaled` means that the time series comes from a reescaling procedure, the first coordinate set `34.85_-119.85` comes from the reescaled plant location, the second coordinate set `35.0_-120.0` corrisponds to the desired location for the simulated plant, then `2006` the corresponding year climatic fluctuations, `UPV` the selected type of technology, `100MW` indicates that the reescaled plant originally was from 100MW peak power. Then the time resolution with `5_min`, then `3deg` the degree of the polinome used to extrapolate, `max` refers to the data which the polinomial was adjusted to, and finally `7MW`corrisponds to the reescaled peak power. It will be written in the `./reescaled_series/` folder"
   ]
  },
  {
   "cell_type": "markdown",
   "metadata": {},
   "source": [
    "-----"
   ]
  }
 ],
 "metadata": {
  "kernelspec": {
   "display_name": "Python 3",
   "language": "python",
   "name": "python3"
  },
  "language_info": {
   "codemirror_mode": {
    "name": "ipython",
    "version": 3
   },
   "file_extension": ".py",
   "mimetype": "text/x-python",
   "name": "python",
   "nbconvert_exporter": "python",
   "pygments_lexer": "ipython3",
   "version": "3.8.5"
  }
 },
 "nbformat": 4,
 "nbformat_minor": 4
}
