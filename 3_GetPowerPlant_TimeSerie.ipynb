{
 "cells": [
  {
   "cell_type": "markdown",
   "metadata": {},
   "source": [
    " # 3. Generate Reescaled Power Generation Time Series\n",
    " \n",
    " This notebooks contains the main algorithm for generating a time series from a solar power plant, given a geographic coordinates and a desired output maximal installed power. We can later on implement this on any other script that serves any analysis purpose."
   ]
  },
  {
   "cell_type": "code",
   "execution_count": 1,
   "metadata": {},
   "outputs": [],
   "source": [
    "from modules import power_generation_profile\n",
    "from modules import data_preparation"
   ]
  },
  {
   "cell_type": "markdown",
   "metadata": {},
   "source": [
    "Firstly, create or load the plants metadata."
   ]
  },
  {
   "cell_type": "code",
   "execution_count": 2,
   "metadata": {},
   "outputs": [],
   "source": [
    "meta_UPV, meta_DPV = data_preparation.get_plants_files_metadata( read = True, PATH = './data/Extracted/', UPV = True, DPV = True, to_csv = False)"
   ]
  },
  {
   "cell_type": "code",
   "execution_count": 3,
   "metadata": {},
   "outputs": [
    {
     "data": {
      "text/html": [
       "<div>\n",
       "<style scoped>\n",
       "    .dataframe tbody tr th:only-of-type {\n",
       "        vertical-align: middle;\n",
       "    }\n",
       "\n",
       "    .dataframe tbody tr th {\n",
       "        vertical-align: top;\n",
       "    }\n",
       "\n",
       "    .dataframe thead th {\n",
       "        text-align: right;\n",
       "    }\n",
       "</style>\n",
       "<table border=\"1\" class=\"dataframe\">\n",
       "  <thead>\n",
       "    <tr style=\"text-align: right;\">\n",
       "      <th></th>\n",
       "      <th>Latitude</th>\n",
       "      <th>Longitude</th>\n",
       "      <th>Power (MW)</th>\n",
       "      <th>Technology</th>\n",
       "      <th>File_name</th>\n",
       "    </tr>\n",
       "  </thead>\n",
       "  <tbody>\n",
       "    <tr>\n",
       "      <th>0</th>\n",
       "      <td>37.65</td>\n",
       "      <td>-113.65</td>\n",
       "      <td>150.0</td>\n",
       "      <td>UPV</td>\n",
       "      <td>Actual_37.65_-113.65_2006_UPV_150MW_5_Min.csv</td>\n",
       "    </tr>\n",
       "    <tr>\n",
       "      <th>1</th>\n",
       "      <td>25.95</td>\n",
       "      <td>-80.75</td>\n",
       "      <td>232.0</td>\n",
       "      <td>UPV</td>\n",
       "      <td>Actual_25.95_-80.75_2006_UPV_232MW_5_Min.csv</td>\n",
       "    </tr>\n",
       "    <tr>\n",
       "      <th>2</th>\n",
       "      <td>35.75</td>\n",
       "      <td>-77.65</td>\n",
       "      <td>40.0</td>\n",
       "      <td>UPV</td>\n",
       "      <td>Actual_35.75_-77.65_2006_UPV_40MW_5_Min.csv</td>\n",
       "    </tr>\n",
       "    <tr>\n",
       "      <th>3</th>\n",
       "      <td>38.25</td>\n",
       "      <td>-79.05</td>\n",
       "      <td>15.0</td>\n",
       "      <td>UPV</td>\n",
       "      <td>Actual_38.25_-79.05_2006_UPV_15MW_5_Min.csv</td>\n",
       "    </tr>\n",
       "    <tr>\n",
       "      <th>4</th>\n",
       "      <td>34.55</td>\n",
       "      <td>-79.95</td>\n",
       "      <td>48.0</td>\n",
       "      <td>UPV</td>\n",
       "      <td>Actual_34.55_-79.95_2006_UPV_48MW_5_Min.csv</td>\n",
       "    </tr>\n",
       "  </tbody>\n",
       "</table>\n",
       "</div>"
      ],
      "text/plain": [
       "   Latitude  Longitude  Power (MW) Technology  \\\n",
       "0     37.65    -113.65       150.0        UPV   \n",
       "1     25.95     -80.75       232.0        UPV   \n",
       "2     35.75     -77.65        40.0        UPV   \n",
       "3     38.25     -79.05        15.0        UPV   \n",
       "4     34.55     -79.95        48.0        UPV   \n",
       "\n",
       "                                       File_name  \n",
       "0  Actual_37.65_-113.65_2006_UPV_150MW_5_Min.csv  \n",
       "1   Actual_25.95_-80.75_2006_UPV_232MW_5_Min.csv  \n",
       "2    Actual_35.75_-77.65_2006_UPV_40MW_5_Min.csv  \n",
       "3    Actual_38.25_-79.05_2006_UPV_15MW_5_Min.csv  \n",
       "4    Actual_34.55_-79.95_2006_UPV_48MW_5_Min.csv  "
      ]
     },
     "execution_count": 3,
     "metadata": {},
     "output_type": "execute_result"
    }
   ],
   "source": [
    "meta_UPV.head()"
   ]
  },
  {
   "cell_type": "markdown",
   "metadata": {},
   "source": [
    "Secondly, generate the clustered plants metadata."
   ]
  },
  {
   "cell_type": "code",
   "execution_count": 4,
   "metadata": {},
   "outputs": [],
   "source": [
    "geo_data_UPV_labeled_df, centers_df = power_generation_profile.cluster_label_gdf(meta_UPV, N_clusters = 75 )"
   ]
  },
  {
   "cell_type": "code",
   "execution_count": 5,
   "metadata": {},
   "outputs": [
    {
     "data": {
      "text/html": [
       "<div>\n",
       "<style scoped>\n",
       "    .dataframe tbody tr th:only-of-type {\n",
       "        vertical-align: middle;\n",
       "    }\n",
       "\n",
       "    .dataframe tbody tr th {\n",
       "        vertical-align: top;\n",
       "    }\n",
       "\n",
       "    .dataframe thead th {\n",
       "        text-align: right;\n",
       "    }\n",
       "</style>\n",
       "<table border=\"1\" class=\"dataframe\">\n",
       "  <thead>\n",
       "    <tr style=\"text-align: right;\">\n",
       "      <th></th>\n",
       "      <th>Latitude</th>\n",
       "      <th>Longitude</th>\n",
       "      <th>Power (MW)</th>\n",
       "      <th>Technology</th>\n",
       "      <th>File_name</th>\n",
       "      <th>geometry</th>\n",
       "      <th>cluster_label_kmeans</th>\n",
       "    </tr>\n",
       "  </thead>\n",
       "  <tbody>\n",
       "    <tr>\n",
       "      <th>0</th>\n",
       "      <td>37.65</td>\n",
       "      <td>-113.65</td>\n",
       "      <td>150.0</td>\n",
       "      <td>UPV</td>\n",
       "      <td>Actual_37.65_-113.65_2006_UPV_150MW_5_Min.csv</td>\n",
       "      <td>POINT (-113.65000 37.65000)</td>\n",
       "      <td>45</td>\n",
       "    </tr>\n",
       "    <tr>\n",
       "      <th>1</th>\n",
       "      <td>25.95</td>\n",
       "      <td>-80.75</td>\n",
       "      <td>232.0</td>\n",
       "      <td>UPV</td>\n",
       "      <td>Actual_25.95_-80.75_2006_UPV_232MW_5_Min.csv</td>\n",
       "      <td>POINT (-80.75000 25.95000)</td>\n",
       "      <td>30</td>\n",
       "    </tr>\n",
       "    <tr>\n",
       "      <th>2</th>\n",
       "      <td>35.75</td>\n",
       "      <td>-77.65</td>\n",
       "      <td>40.0</td>\n",
       "      <td>UPV</td>\n",
       "      <td>Actual_35.75_-77.65_2006_UPV_40MW_5_Min.csv</td>\n",
       "      <td>POINT (-77.65000 35.75000)</td>\n",
       "      <td>20</td>\n",
       "    </tr>\n",
       "    <tr>\n",
       "      <th>3</th>\n",
       "      <td>38.25</td>\n",
       "      <td>-79.05</td>\n",
       "      <td>15.0</td>\n",
       "      <td>UPV</td>\n",
       "      <td>Actual_38.25_-79.05_2006_UPV_15MW_5_Min.csv</td>\n",
       "      <td>POINT (-79.05000 38.25000)</td>\n",
       "      <td>51</td>\n",
       "    </tr>\n",
       "    <tr>\n",
       "      <th>4</th>\n",
       "      <td>34.55</td>\n",
       "      <td>-79.95</td>\n",
       "      <td>48.0</td>\n",
       "      <td>UPV</td>\n",
       "      <td>Actual_34.55_-79.95_2006_UPV_48MW_5_Min.csv</td>\n",
       "      <td>POINT (-79.95000 34.55000)</td>\n",
       "      <td>59</td>\n",
       "    </tr>\n",
       "  </tbody>\n",
       "</table>\n",
       "</div>"
      ],
      "text/plain": [
       "   Latitude  Longitude  Power (MW) Technology  \\\n",
       "0     37.65    -113.65       150.0        UPV   \n",
       "1     25.95     -80.75       232.0        UPV   \n",
       "2     35.75     -77.65        40.0        UPV   \n",
       "3     38.25     -79.05        15.0        UPV   \n",
       "4     34.55     -79.95        48.0        UPV   \n",
       "\n",
       "                                       File_name                     geometry  \\\n",
       "0  Actual_37.65_-113.65_2006_UPV_150MW_5_Min.csv  POINT (-113.65000 37.65000)   \n",
       "1   Actual_25.95_-80.75_2006_UPV_232MW_5_Min.csv   POINT (-80.75000 25.95000)   \n",
       "2    Actual_35.75_-77.65_2006_UPV_40MW_5_Min.csv   POINT (-77.65000 35.75000)   \n",
       "3    Actual_38.25_-79.05_2006_UPV_15MW_5_Min.csv   POINT (-79.05000 38.25000)   \n",
       "4    Actual_34.55_-79.95_2006_UPV_48MW_5_Min.csv   POINT (-79.95000 34.55000)   \n",
       "\n",
       "   cluster_label_kmeans  \n",
       "0                    45  \n",
       "1                    30  \n",
       "2                    20  \n",
       "3                    51  \n",
       "4                    59  "
      ]
     },
     "execution_count": 5,
     "metadata": {},
     "output_type": "execute_result"
    }
   ],
   "source": [
    "geo_data_UPV_labeled_df.head()"
   ]
  },
  {
   "cell_type": "markdown",
   "metadata": {},
   "source": [
    "Finally, get the reescaled time series within the specified coordinates and desired peak power output."
   ]
  },
  {
   "cell_type": "code",
   "execution_count": 6,
   "metadata": {},
   "outputs": [
    {
     "name": "stdout",
     "output_type": "stream",
     "text": [
      "|100.00% completed. Time elapsed: 8.0s \r"
     ]
    }
   ],
   "source": [
    "scaled_time_serie = power_generation_profile.Get_PGP_TS( geo_data_UPV_labeled_df, centers_df, coordinates = (-125, 35), power = 10, datapath = './data/Extracted/', degree = 3, data = 'max', out_csv = True)"
   ]
  },
  {
   "cell_type": "code",
   "execution_count": 7,
   "metadata": {},
   "outputs": [
    {
     "data": {
      "text/plain": [
       "LocalTime\n",
       "2006-01-01 00:00:00    0.0\n",
       "2006-01-01 00:05:00    0.0\n",
       "2006-01-01 00:10:00    0.0\n",
       "2006-01-01 00:15:00    0.0\n",
       "2006-01-01 00:20:00    0.0\n",
       "Name: Power(MW), dtype: float64"
      ]
     },
     "execution_count": 7,
     "metadata": {},
     "output_type": "execute_result"
    }
   ],
   "source": [
    "scaled_time_serie.head()"
   ]
  },
  {
   "cell_type": "markdown",
   "metadata": {},
   "source": [
    "----------"
   ]
  }
 ],
 "metadata": {
  "kernelspec": {
   "display_name": "Python 3",
   "language": "python",
   "name": "python3"
  },
  "language_info": {
   "codemirror_mode": {
    "name": "ipython",
    "version": 3
   },
   "file_extension": ".py",
   "mimetype": "text/x-python",
   "name": "python",
   "nbconvert_exporter": "python",
   "pygments_lexer": "ipython3",
   "version": "3.8.5"
  }
 },
 "nbformat": 4,
 "nbformat_minor": 4
}
