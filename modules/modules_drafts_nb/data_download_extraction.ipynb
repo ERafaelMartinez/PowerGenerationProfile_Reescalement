{
 "cells": [
  {
   "cell_type": "code",
   "execution_count": 1,
   "metadata": {},
   "outputs": [],
   "source": [
    "import pandas as pd\n",
    "import numpy as np\n",
    "from zipfile import ZipFile\n",
    "import urllib.request\n",
    "from tqdm import tqdm\n",
    "import os\n"
   ]
  },
  {
   "cell_type": "code",
   "execution_count": 2,
   "metadata": {},
   "outputs": [],
   "source": [
    "#class needed for progressbar on downloads\n",
    "class DownloadProgressBar(tqdm):\n",
    "    def update_to(self, b=1, bsize=1, tsize=None):\n",
    "        if tsize is not None:\n",
    "            self.total = tsize\n",
    "        self.update(b * bsize - self.n)\n",
    "\n",
    "\n",
    "def download_url(url, output_path):\n",
    "    with DownloadProgressBar(unit='B', unit_scale=True, miniters=1, desc=url.split('/')[-1]) as t:\n",
    "        urllib.request.urlretrieve(url, filename=output_path, reporthook=t.update_to)"
   ]
  },
  {
   "cell_type": "code",
   "execution_count": 3,
   "metadata": {},
   "outputs": [],
   "source": [
    "def download_data(links_file_path, outpath):\n",
    "    '''\n",
    "    links_file_path: path and name of the file wich contains the entities and links for download.\n",
    "    '''\n",
    "\n",
    "    if not os.path.exists(outpath + 'data/'):\n",
    "        os.mkdir(outpath + 'data/')\n",
    "    state_links = pd.read_csv(links_file_path) \n",
    "    \n",
    "    for state, url in state_links.values:\n",
    "        if not os.path.exists(outpath + 'data/' + state + '.zip'):\n",
    "            print('\\n Downloading data for ', state)\n",
    "            download_url(url, outpath + 'data/' + state + '.zip')\n",
    "        else:\n",
    "            print('Files from {} already exists.'.format(state))\n",
    "            \n",
    "def unzip_data(datapath):\n",
    "    '''\n",
    "    datapath: folder in which files are contained.\n",
    "    '''\n",
    "    files = [f for f in os.listdir(datapath) if os.path.isfile(os.path.join(datapath, f))]\n",
    "\n",
    "    for file in files:\n",
    "        print('\\n Extracting ',file)\n",
    "        with ZipFile(datapath+'/'+file, 'r') as zip_ref:\n",
    "            for member in tqdm(zip_ref.infolist(), desc='Extracting '):\n",
    "                try:\n",
    "                    zip_ref.extract(member, datapath + '/Extracted/')\n",
    "                except zipfile.error as e:\n",
    "                    pass\n",
    "                                    \n",
    "def info_df_from_data(datapath, tech='UPV'):\n",
    "    '''\n",
    "    datapath: folder in which files are contained.\n",
    "    tech: technology of the simulated plant.\n",
    "    '''\n",
    "    files = [f for f in os.listdir(datapath) if os.path.isfile(os.path.join(datapath, f))]\n",
    "    info_array = []\n",
    "\n",
    "    for file in files:\n",
    "        if (file.find('Actual') != -1) and (file.find(tech) != -1):\n",
    "            aux = file.split('_',maxsplit=6)\n",
    "            aux_ = np.append(np.array([aux[1],aux[2],aux[5],aux[4]]), np.array([file]), axis=0)\n",
    "            info_array.append(aux_)\n",
    "    \n",
    "    df = pd.DataFrame(info_array, columns=['Latitude','Longitude','Power','Technology','File_name'])\n",
    "    return df\n",
    "                                    "
   ]
  },
  {
   "cell_type": "code",
   "execution_count": 4,
   "metadata": {},
   "outputs": [],
   "source": [
    "#def get_data()"
   ]
  },
  {
   "cell_type": "code",
   "execution_count": 6,
   "metadata": {},
   "outputs": [
    {
     "ename": "FileNotFoundError",
     "evalue": "[Errno 2] No such file or directory: './Working1/data/'",
     "output_type": "error",
     "traceback": [
      "\u001b[0;31m---------------------------------------------------------------------------\u001b[0m",
      "\u001b[0;31mFileNotFoundError\u001b[0m                         Traceback (most recent call last)",
      "\u001b[0;32m<ipython-input-6-b0ebb69dbfc2>\u001b[0m in \u001b[0;36m<module>\u001b[0;34m\u001b[0m\n\u001b[0;32m----> 1\u001b[0;31m \u001b[0mdownload_data\u001b[0m\u001b[0;34m(\u001b[0m\u001b[0;34m'./links/eastern_states_links.csv'\u001b[0m\u001b[0;34m,\u001b[0m \u001b[0moutpath\u001b[0m\u001b[0;34m=\u001b[0m\u001b[0;34m'./Working1/'\u001b[0m\u001b[0;34m)\u001b[0m\u001b[0;34m\u001b[0m\u001b[0;34m\u001b[0m\u001b[0m\n\u001b[0m\u001b[1;32m      2\u001b[0m \u001b[0mdownload_data\u001b[0m\u001b[0;34m(\u001b[0m\u001b[0;34m'./links/western_states_links.csv'\u001b[0m\u001b[0;34m,\u001b[0m \u001b[0moutpath\u001b[0m\u001b[0;34m=\u001b[0m\u001b[0;34m'./Working1/'\u001b[0m\u001b[0;34m)\u001b[0m\u001b[0;34m\u001b[0m\u001b[0;34m\u001b[0m\u001b[0m\n\u001b[1;32m      3\u001b[0m \u001b[0munzip_data\u001b[0m\u001b[0;34m(\u001b[0m\u001b[0;34m'./data/'\u001b[0m\u001b[0;34m)\u001b[0m\u001b[0;34m\u001b[0m\u001b[0;34m\u001b[0m\u001b[0m\n",
      "\u001b[0;32m<ipython-input-3-616d8041f2c2>\u001b[0m in \u001b[0;36mdownload_data\u001b[0;34m(links_file_path, outpath)\u001b[0m\n\u001b[1;32m      5\u001b[0m \u001b[0;34m\u001b[0m\u001b[0m\n\u001b[1;32m      6\u001b[0m     \u001b[0;32mif\u001b[0m \u001b[0;32mnot\u001b[0m \u001b[0mos\u001b[0m\u001b[0;34m.\u001b[0m\u001b[0mpath\u001b[0m\u001b[0;34m.\u001b[0m\u001b[0mexists\u001b[0m\u001b[0;34m(\u001b[0m\u001b[0moutpath\u001b[0m \u001b[0;34m+\u001b[0m \u001b[0;34m'data/'\u001b[0m\u001b[0;34m)\u001b[0m\u001b[0;34m:\u001b[0m\u001b[0;34m\u001b[0m\u001b[0;34m\u001b[0m\u001b[0m\n\u001b[0;32m----> 7\u001b[0;31m         \u001b[0mos\u001b[0m\u001b[0;34m.\u001b[0m\u001b[0mmkdir\u001b[0m\u001b[0;34m(\u001b[0m\u001b[0moutpath\u001b[0m \u001b[0;34m+\u001b[0m \u001b[0;34m'data/'\u001b[0m\u001b[0;34m)\u001b[0m\u001b[0;34m\u001b[0m\u001b[0;34m\u001b[0m\u001b[0m\n\u001b[0m\u001b[1;32m      8\u001b[0m     \u001b[0mstate_links\u001b[0m \u001b[0;34m=\u001b[0m \u001b[0mpd\u001b[0m\u001b[0;34m.\u001b[0m\u001b[0mread_csv\u001b[0m\u001b[0;34m(\u001b[0m\u001b[0mlinks_file_path\u001b[0m\u001b[0;34m)\u001b[0m\u001b[0;34m\u001b[0m\u001b[0;34m\u001b[0m\u001b[0m\n\u001b[1;32m      9\u001b[0m \u001b[0;34m\u001b[0m\u001b[0m\n",
      "\u001b[0;31mFileNotFoundError\u001b[0m: [Errno 2] No such file or directory: './Working1/data/'"
     ]
    }
   ],
   "source": [
    "download_data('./links/eastern_states_links.csv', outpath='./Working1/')\n",
    "download_data('./links/western_states_links.csv', outpath='./Working1/')\n",
    "unzip_data('./data/')"
   ]
  },
  {
   "cell_type": "code",
   "execution_count": null,
   "metadata": {},
   "outputs": [],
   "source": []
  }
 ],
 "metadata": {
  "kernelspec": {
   "display_name": "Python 3",
   "language": "python",
   "name": "python3"
  },
  "language_info": {
   "codemirror_mode": {
    "name": "ipython",
    "version": 3
   },
   "file_extension": ".py",
   "mimetype": "text/x-python",
   "name": "python",
   "nbconvert_exporter": "python",
   "pygments_lexer": "ipython3",
   "version": "3.8.2"
  }
 },
 "nbformat": 4,
 "nbformat_minor": 4
}
